{
 "cells": [
  {
   "attachments": {},
   "cell_type": "markdown",
   "metadata": {},
   "source": [
    "# Dynamic UPF Placement and Chaining Reconfiguration (UPCR)"
   ]
  },
  {
   "attachments": {},
   "cell_type": "markdown",
   "metadata": {},
   "source": [
    "https://www.sciencedirect.com/science/article/pii/S1389128622002900"
   ]
  },
  {
   "cell_type": "code",
   "execution_count": 1,
   "metadata": {},
   "outputs": [],
   "source": [
    "import pickle\n",
    "import math\n",
    "import time\n",
    "\n",
    "# PYOMO AND SOLVER \n",
    "from pyomo.environ import *\n",
    "from pyomo.opt import SolverFactory, SolverStatus, TerminationCondition\n",
    "from pyomo.core import Var\n",
    "\n",
    "# FIle with model Parameters\n",
    "import Parameters as params"
   ]
  },
  {
   "cell_type": "code",
   "execution_count": 2,
   "metadata": {},
   "outputs": [],
   "source": [
    "def import_data(dir_data, file_name):\n",
    "    \"\"\"THis function imports the data that it is in dir_data+file_name\"\"\"\n",
    "    with open (dir_data+file_name, \"rb\") as fp:\n",
    "        return pickle.load(fp)"
   ]
  },
  {
   "cell_type": "code",
   "execution_count": 3,
   "metadata": {},
   "outputs": [],
   "source": [
    "def export_data(file_name, file_data):\n",
    "    \"\"\"Esta funcion me permite salvar en un fichero con nombbre file_data la información contenida en file_data\"\"\"\n",
    "    with open(file_name, \"wb\") as fp:\n",
    "        pickle.dump(file_data, fp)\n",
    "    return"
   ]
  },
  {
   "cell_type": "markdown",
   "metadata": {},
   "source": [
    "## Importing Dta\n"
   ]
  },
  {
   "cell_type": "code",
   "execution_count": 4,
   "metadata": {},
   "outputs": [],
   "source": [
    "dir_data = params.dir_data"
   ]
  },
  {
   "cell_type": "code",
   "execution_count": 5,
   "metadata": {},
   "outputs": [],
   "source": [
    "# Session information\n",
    "S = import_data(dir_data, \"S\") \n",
    "\n",
    "Dict_Tsfc_s = import_data(dir_data, \"Dict_Tsfc_s\"+str(S))           # Matrix with VNFs in SFC: 1 if VNF f ∈ Fs in SFCR s ∈ S is of type t ∈ T\n",
    "Dict_C_s = import_data(dir_data, \"Dict_C_s\"+str(S))                 # Computing resources required by SFCR s ∈ S\n",
    "Dict_Lreq_s = import_data(dir_data, \"Dict_Lreq_s\"+str(S))           # E2E latency requirement of SFCR s ∈ S\n",
    "Dict_Beta_s = import_data(dir_data, \"Dict_Beta_s\"+str(S))           # Bandwidth capacity required by SFCR s ∈ S\n",
    "users_sourceBS = import_data(dir_data, \"users_sourceBS\")            # Access node (rs ∈ Nr) of SFCR s ∈ S\n",
    "\n",
    "    \n",
    "# Previous Placement data\n",
    "Xtic = import_data(dir_data, \"Xtic\")                                # VNF deployed on node c\n",
    "Zsfc = import_data(dir_data, \"Zsfc\")                                # SFC  mapped on node c\n",
    "\n",
    "U = [x[:2] for x in Xtic]                                           # set of already deployed instances (i,t,c)\n",
    "U = sorted(U , key=lambda k: [k[1], k[0]])\n",
    "\n",
    "# Nodes\n",
    "# Candidate locations\n",
    "Nc = import_data(dir_data, \"ListMECInstalled\")                      # candidate coordenadas\n",
    "Nc = sorted(Nc , key=lambda k: [k[1], k[0]])\n",
    "Dict_C_c = import_data(dir_data, \"Dict_C_c\")                        # Processing capacity at candidate location c ∈ Nc\n",
    "\n",
    "\n",
    "# access nodes\n",
    "Nr = import_data(dir_data, \"BS_pos\")                                # access node coordinates \n",
    "Nr = sorted(Nr , key=lambda k: [k[1], k[0]])\n",
    "\n",
    " # Set of all nodes\n",
    "N = Nc + Nr                                                        \n",
    "\n",
    "#Importing paths data \n",
    "Edges = import_data(dir_data,\"Edges\")                               # dict: key=nodes_id (en & ran) and value latency\n",
    "Dict_Links_Capacity = import_data(dir_data,\"Dict_Links_Capacity\")   # dictkey nodes_id (en & ran) and value bandwidth\n",
    "Paths = import_data(dir_data,\"Paths\")\n",
    "Paths_nm = import_data(dir_data,\"Paths_nm\")                         # P_n,m: dict with key equlas nodes_id (en & ran) and value number of paths\n",
    "Paths_links_mapping = import_data(dir_data,'Paths_links_mapping')   # W_p_uv\n",
    "\n",
    "\n",
    "# VNFs Data\n",
    "Dict_C_t = import_data(dir_data,'Dict_C_t')             # Processing capacity of VNF of type t ∈ T         \n",
    "Dict_D_proc = import_data(dir_data,'Dict_D_proc')       # d_t: Processing delay of VNF of type t ∈ T                            \n",
    "M_t_imported = import_data(dir_data,'M_t')              # M_t: Maximum number of instances of type t ∈ T. Compute upon service demands and VNF capacity\n",
    "M_t[4] = len(Nr)                                        # Updating number of BS \n",
    "T = params.Type_sfc                                     # T: Types of VNFs\n",
    "T_extended = T+1                                        # Extending T dataset to include RANs as an special VNF type\n",
    "T_dn = T_dn = params.T_dn                               # Processing time of data network nodes"
   ]
  },
  {
   "attachments": {},
   "cell_type": "markdown",
   "metadata": {},
   "source": [
    "# Preparing the Data"
   ]
  },
  {
   "cell_type": "code",
   "execution_count": 9,
   "metadata": {},
   "outputs": [],
   "source": [
    "#Splitting the set of links between candidate nodes and ran-candidates\n",
    "Edge_candidates = {}\n",
    "Edge_rans_candidates = {}\n",
    "\n",
    "for k,v in Edges.items():\n",
    "    if k[0]<= len(Nc) and k[1]<= len(Nc):\n",
    "        Edge_candidates[k]= v\n",
    "    else:\n",
    "        Edge_rans_candidates[k]=v\n",
    "\n",
    "if len(Edge_candidates)+len(Edge_rans_candidates) != len(Edges):\n",
    "    raise  \n",
    "    \n",
    "for k, v in Paths.items():\n",
    "    Paths[k] = round(v, 2)"
   ]
  },
  {
   "attachments": {},
   "cell_type": "markdown",
   "metadata": {},
   "source": [
    "## Defining the general parameters for each type SFC"
   ]
  },
  {
   "cell_type": "markdown",
   "metadata": {},
   "source": [
    "###  Types of PDU Sessions/ SFCR\n",
    "\n",
    "+ Type 1:     \n",
    "------| PSA |------\n",
    "      \n",
    "      \n",
    "+ Type 2:     \n",
    "------|I-UPF|-------| PSA |------\n",
    "      \n",
    "      \n",
    "+ Type 3:     \n",
    "------| M-UPF |-----|PSA |-----\n",
    "               \\̣____|PSA |-----\n",
    "               \n",
    "NOTE: All this types of VNFs has as initial VNF the RAN. In other words, the source nodes are considered as a type of VNFs. In the SFCR model the RANs are the last VNF and have t =4\n",
    "\n",
    "### SFCR Parameters:\n",
    "+ N_sfc_type: Number of CSFR types (i.e., 3)\n",
    "+ B_sfc_type: Number of branches for each SFCR type\n",
    "+ F_sfc_type: Set of VNFs for each SFCR type\n",
    "+ T_sfc_type: Parameter indicating the type of VNF f in for each SFCR type\n",
    "+ P_fbs_sfc_type: Parameter indicating if VNF f is present in branch b for each SFCR type\n",
    "+ O_sbfg_sfc_type: Parameter indicating if VNF f goes before g in branch b for each SFCR type\n",
    "\n",
    "### SFCR Requirements:\n",
    "+ L_s: Latency requirement of service s\n",
    "+ C_s: Capacity demand of servise s\n",
    "+ Source_s: Source access node/AP of service s (List_ran_user (s,f,t,m,c) )\n",
    "+ Bw_s: Bandwidth demand of service s"
   ]
  },
  {
   "cell_type": "code",
   "execution_count": 11,
   "metadata": {},
   "outputs": [],
   "source": [
    "#  Parameters for type three of SFCR\n",
    "\n",
    "if T == 3: # T: Number of VNFs types 1:PSA, 2:IUPF, 3: M-IUPF, 4:RAN\n",
    "    Ran_type = 4\n",
    "    B_sfc_type = [1,1,2]                       # No. of branches in each type of SFC\n",
    "    F_sfc_type = [[1,2],[1,2,3],[1, 2, 3, 4]]  # Set of VNFs in each type of SFC\n",
    "    T_sfc_type = [[1,4],[2,1,4],[3,1,1,4]]     # Type for each VNF in SFC \n",
    "    P_fbs_sfc_type = [[[1,1]], \n",
    "                      [[1,1,1]], \n",
    "                      [[1,1,0,1],[1,0,1,1]]]  # Indicates if a VNF is present or not in a branch: Index[type,branch,vnf]\n",
    "    O_sbfg_sfc_type  = [[[[0,0], [1,0]]],\n",
    "                        [[[0,1,0],[0,0,0],[1,0,0]]],\n",
    "                        [[[0,1,0,0],[0,0,0,0],[0,0,0,0],[1,0,0,0]],\n",
    "                        [[0,0,1,0],[0,0,0,0],[0,0,0,0],[1,0,0,0]]]]  #Indicates if a VNF f goes before g in a branch\n",
    "    E_sfc_type = [[(2,1)],\n",
    "                  [(3,1), (1,2)],\n",
    "                  [(4,1), (1,2), (1,3)]]   #virtual links between VNF instances in set F"
   ]
  },
  {
   "attachments": {},
   "cell_type": "markdown",
   "metadata": {},
   "source": [
    "#### Defining PDU sessions  parameters"
   ]
  },
  {
   "cell_type": "code",
   "execution_count": 12,
   "metadata": {},
   "outputs": [],
   "source": [
    "#Generating the data of each session PDU (demand, A-UPF number, BS source)\n",
    "List_F_s = []\n",
    "List_T_s = []\n",
    "List_E_s = []\n",
    "List_P_s = []\n",
    "List_O_s = []\n",
    "List_B_s = []\n",
    "\n",
    "for k,v in Dict_Tsfc_s.items():\n",
    "    List_F_s.append(F_sfc_type[v-1])\n",
    "    List_T_s.append(T_sfc_type[v-1])\n",
    "    List_E_s.append(E_sfc_type[v-1])\n",
    "    List_P_s.append(P_fbs_sfc_type[v-1])\n",
    "    List_O_s.append(O_sbfg_sfc_type[v-1])\n",
    "    List_B_s.append(B_sfc_type[v-1])\n",
    "    \n",
    "Branches = sum(List_B_s)"
   ]
  },
  {
   "attachments": {},
   "cell_type": "markdown",
   "metadata": {},
   "source": [
    "# Pyomo model "
   ]
  },
  {
   "cell_type": "code",
   "execution_count": null,
   "metadata": {},
   "outputs": [],
   "source": [
    "# Creating the model \n",
    "\n",
    "model = ConcreteModel()"
   ]
  },
  {
   "cell_type": "markdown",
   "metadata": {},
   "source": [
    "## Defining the Sets"
   ]
  },
  {
   "cell_type": "markdown",
   "metadata": {},
   "source": [
    "### Basic Sets"
   ]
  },
  {
   "cell_type": "code",
   "execution_count": 14,
   "metadata": {},
   "outputs": [],
   "source": [
    "#set of PDU sessions\n",
    "model.del_component( 'S')\n",
    "model.S = RangeSet(1, S)\n",
    "\n",
    "\n",
    "#Set of candidates nodes\n",
    "model.del_component( 'Nc')     \n",
    "model.Nc = RangeSet(1, len(Nc))\n",
    "\n",
    "\n",
    "#Set of ran nodes\n",
    "model.del_component( 'Nr')     \n",
    "model.Nr = RangeSet(len(Nc)+1, len(Nc)+len(Nr))\n",
    "\n",
    "\n",
    "#Set of all the nodes: aggregation points+candidates nodes\n",
    "model.del_component( 'N')     \n",
    "model.N = RangeSet(1, len(N))\n",
    "\n",
    "\n",
    "# Set of network edges. It includes the links between Nc+APs and Nc\n",
    "model.del_component( 'E')\n",
    "model.del_component( 'E_index')\n",
    "model.E = Set(dimen=2, initialize=list(Edges.keys()), ordered= True)\n",
    "\n",
    "\n",
    "# Set of network edges. It includes the links between Nc and Nc\n",
    "model.del_component( 'E_NcxNc')\n",
    "model.del_component( 'E_NcxNc_index')    \n",
    "model.E_NcxNc = Set(dimen=2, initialize=list(Edge_candidates.keys()), ordered= True)\n",
    "\n",
    "\n",
    "# Set of network edges. It includes the links between APs and Nc\n",
    "model.del_component( 'E_NrxNc')\n",
    "model.del_component( 'E_NrxNc_index')\n",
    "model.E_NrxNc = Set(dimen=2, initialize=list(Edge_rans_candidates.keys()), ordered= True)\n",
    "\n",
    "\n",
    "# Set with the combination of all the paths (n,m,h)\n",
    "model.del_component( 'Paths')\n",
    "model.del_component( 'Paths_index')\n",
    "model.del_component( 'Paths_index_index_0')\n",
    "model.Paths = Set(dimen=3, initialize=Paths.keys())\n",
    "\n",
    "\n",
    "# Sets with the paths splitted by type of nodes\n",
    "List_Nc = [i+1 for i in range(len(Nc))]\n",
    "Paths_cxc = {}\n",
    "Paths_rxc = {}\n",
    "for k,v in Paths.items():\n",
    "    if k[0] in List_Nc and k[1] in List_Nc:\n",
    "        Paths_cxc[k] = v\n",
    "    else:\n",
    "        Paths_rxc[k] = v\n",
    "        \n",
    "model.del_component( 'Paths_cxc')\n",
    "model.del_component( 'Paths_cxc_index')\n",
    "model.del_component( 'Paths_cxc_index_index_0')\n",
    "model.Paths_cxc = Set(dimen=3, initialize=Paths_cxc.keys()) \n",
    "\n",
    "model.del_component( 'Paths_rxc')\n",
    "model.del_component( 'Paths_rxc_index')\n",
    "model.del_component( 'Paths_rxc_index_index_0')\n",
    "model.Paths_rxc = Set(dimen=3, initialize=Paths_rxc.keys()) \n",
    "\n",
    "\n",
    "# Set with the combination of all endpoints (n,m)\n",
    "model.del_component( 'Paths_nm')\n",
    "model.del_component( 'Paths_nm_index')\n",
    "Dict_Path_nm = {}\n",
    "for k,v in Paths_nm.items():\n",
    "    Dict_Path_nm[k]= [i+1 for i in range(v)]\n",
    "        \n",
    "model.Paths_nm = Set(dimen=2, initialize=Dict_Path_nm.keys())\n",
    "\n",
    "\n",
    "# Set with the combination of all endpoints (n,m), splitted by node type\n",
    "Dict_Path_nm_cxc = {}\n",
    "Dict_Path_nm_rxc = {}\n",
    "for k in Paths.keys():\n",
    "    if k in Paths_cxc.keys():\n",
    "        Dict_Path_nm_cxc[k[:2]] = [i+1 for i in range(Paths_nm[k[:2]])]\n",
    "    else:\n",
    "        Dict_Path_nm_rxc[k[:2]] = [i+1 for i in range(Paths_nm[k[:2]])]\n",
    "\n",
    "model.del_component( 'Paths_nm_cxc')\n",
    "model.del_component( 'Paths_nm_cxc_index')        \n",
    "model.Paths_nm_cxc = Set(dimen=2, initialize=Dict_Path_nm_cxc.keys())\n",
    "\n",
    "model.del_component( 'Paths_nm_rxc')\n",
    "model.del_component( 'Paths_nm_rxc_index')        \n",
    "model.Paths_nm_rxc = Set(dimen=2, initialize=Dict_Path_nm_rxc.keys())\n",
    "\n",
    "\n",
    "# Set with the number of paths bertween all endpoints (n,m)\n",
    "model.del_component( 'Paths_nmh')\n",
    "model.del_component( 'Paths_nmh_index')    \n",
    "model.Paths_nmh = Set(model.Paths_nm, initialize=Dict_Path_nm)\n",
    "\n",
    "\n",
    "#Set of VNFs types (UPFs)\n",
    "model.del_component( 'T')\n",
    "model.T = RangeSet(1, T)\n",
    "\n",
    "\n",
    "# Set of max. number of available VNF instances for each type of VNF\n",
    "model.del_component( 'I_t')\n",
    "Dict_M_t = {}\n",
    "for k,v in M_t.items():\n",
    "    if k!=4:\n",
    "        Dict_M_t[k] = [i+1 for i in range(v)]\n",
    "model.I_t = Set(model.T, initialize= Dict_M_t) \n",
    "\n",
    "\n",
    "# Set of deployd VNF instances, (t,i) in U\n",
    "model.del_component( 'U')\n",
    "model.del_component( 'U_index')\n",
    "model.U = Set(dimen=2, initialize= U)\n",
    "\n",
    "\n",
    "#Sets of VNFs (basic and extended) forming a SFCR\n",
    "model.del_component( 'F')\n",
    "Dict_VNF_s = {}\n",
    "Dict_VNF_s_extended = {}\n",
    "for s in model.S:\n",
    "    Dict_VNF_s[s] = List_F_s[s-1][:-1]\n",
    "    Dict_VNF_s_extended[s] = List_F_s[s-1]\n",
    "\n",
    "model.F = Set(model.S, initialize= Dict_VNF_s)\n",
    "\n",
    "\n",
    "# Set of branches in a SFC s\n",
    "model.del_component( 'B_s')\n",
    "Dict_Branches={}\n",
    "for s in model.S:\n",
    "    Dict_Branches[s] = [b+1 for b in range(List_B_s[s-1])]\n",
    "model.B_s = Set(model.S, initialize= Dict_Branches)"
   ]
  },
  {
   "cell_type": "markdown",
   "metadata": {},
   "source": [
    "### Combined Sets"
   ]
  },
  {
   "cell_type": "code",
   "execution_count": 15,
   "metadata": {},
   "outputs": [],
   "source": [
    "# set TM \n",
    "model.del_component( 'TI')\n",
    "model.del_component( 'TI_index')\n",
    "List_TM = [(k,v1) for k,v in  Dict_M_t.items() for v1 in v if k!=4]  # excluyendo RANs\n",
    "model.TI = Set(dimen=2, initialize= List_TM)\n",
    "\n",
    "\n",
    "#Sets of VNFs (basic and extended) forming a SFCR\n",
    "Dict_VNF_s = {}\n",
    "Dict_VNF_s_extended = {}\n",
    "for s in model.S:\n",
    "    Dict_VNF_s[s] = List_F_s[s-1][:-1]\n",
    "    Dict_VNF_s_extended[s] = List_F_s[s-1]\n",
    "\n",
    "model.del_component( 'F')\n",
    "model.F = Set(model.S, initialize= Dict_VNF_s)\n",
    "\n",
    "\n",
    "# SEt of SFCR and VNFs combined (s,f)\n",
    "model.del_component( 'SF')\n",
    "model.del_component( 'SF_index')\n",
    "SF = [(s, i) for s in model.S for i in List_F_s[s-1][:-1]]  # List of tuples (user_id, vnf_id)\n",
    "model.SF = Set(initialize= SF, ordered=True)\n",
    "\n",
    "\n",
    "# FGS is a list with [s,f,g] combination between any two VNFs f and g of each SFCR s\n",
    "model.del_component( 'SFG')\n",
    "model.del_component( 'SFG_index')\n",
    "model.del_component( 'SFG_index_index_0')\n",
    "SFG = [(s,f,g) for s in model.S for f in model.F[s] for g in model.F[s]]\n",
    "model.SFG = Set(dimen=3, initialize= SFG)\n",
    "\n",
    "\n",
    "#Set with the combinations between sfcr and branches (s,b)\n",
    "SB = [(s,b) for s in model.S for b in model.B_s[s] ]\n",
    "model.del_component( 'SB')\n",
    "model.del_component( 'SB_index')\n",
    "model.SB = Set(dimen=2, initialize=SB)\n",
    "\n",
    "\n",
    "# Set with the combinations between SFC s, Branches b and VNFs f (s,b,f)\n",
    "model.del_component( 'SBF')\n",
    "model.del_component( 'SBF_index')\n",
    "model.del_component( 'SBF_index_index_0')\n",
    "SBF = [(s,b,f) for s in model.S for b in model.B_s[s] for f in model.F[s]]\n",
    "model.SBF = Set (dimen=3, initialize=SBF)"
   ]
  },
  {
   "cell_type": "markdown",
   "metadata": {},
   "source": [
    "## Defining the Parameters"
   ]
  },
  {
   "cell_type": "markdown",
   "metadata": {},
   "source": [
    "### Network Parameters"
   ]
  },
  {
   "cell_type": "code",
   "execution_count": 16,
   "metadata": {},
   "outputs": [],
   "source": [
    "# VNF t capacity    \n",
    "model.del_component( 'C_t')\n",
    "C_t = {}\n",
    "for t in model.T:\n",
    "    C_t[t] = Dict_C_t[t]\n",
    "model.C_t = Param(model.T, initialize=C_t)\n",
    "\n",
    "\n",
    "#MaxNumber of VNF instances for each type (M_t)\n",
    "model.del_component( 'MaxM_t')\n",
    "M_t_upf = {}\n",
    "for k,v in M_t.items():\n",
    "    if k!=4:\n",
    "        M_t_upf[k] = v\n",
    "model.MaxM_t = Param(model.T, initialize= M_t_upf)\n",
    "\n",
    "\n",
    "# Server capacity\n",
    "model.del_component( 'C_c') \n",
    "model.C_c = Param(model.Nc, initialize=Dict_C_c)\n",
    "\n",
    "\n",
    "# Propagation Latency in a path. Includes all the links between APs and Nc (N)\n",
    "model.del_component( 'D_prop')\n",
    "model.del_component( 'D_prop_index')\n",
    "model.D_prop = Param(model.Paths, initialize=Paths)\n",
    "\n",
    "\n",
    "#Processing Latency for each VNF type\n",
    "model.del_component( 'D_proc')\n",
    "D_p = {}\n",
    "for t in model.T:\n",
    "    D_p[t] = Dict_Tproc[t]\n",
    "model.D_proc = Param(model.T, initialize= D_p)\n",
    "\n",
    "\n",
    "# Link Bandwidth\n",
    "model.del_component( 'Link_bw')\n",
    "model.del_component( 'Link_bw_index')\n",
    "model.Link_bw = Param(model.E, initialize=Dict_Links_Capacity)\n",
    "\n",
    "\n",
    "# Path_link mapping\n",
    "model.del_component( 'W_nmh_uv')\n",
    "model.del_component( 'W_nmh_uv_index')\n",
    "model.del_component( 'W_nmh_uv_index_index_0')\n",
    "model.del_component( 'W_nmh_uv_index_index_0_index_0')\n",
    "model.del_component( 'W_nmh_uv_index_index_0_index_0_index_0')\n",
    "\n",
    "Paths_links_mapping_dict = {}\n",
    "for k,v in Paths_links_mapping.items():\n",
    "    for k1,v1 in v.items():\n",
    "        Paths_links_mapping_dict[(k[0],k[1], k[2], k1[0], k1[1])]=v1\n",
    "\n",
    "model.W_nmh_uv = Param(model.Paths, model.E, initialize=Paths_links_mapping_dict)"
   ]
  },
  {
   "cell_type": "markdown",
   "metadata": {},
   "source": [
    "### Previous placement parameters"
   ]
  },
  {
   "cell_type": "code",
   "execution_count": 17,
   "metadata": {},
   "outputs": [],
   "source": [
    "# VNf instances :  Xtic[t,i,c]=1 if instance i of VNF type t was previously deployed at node c\n",
    "model.del_component( 'Xtic')\n",
    "model.del_component( 'Xtic_index')\n",
    "model.del_component( 'Xtic_index_index_0')\n",
    "Dict_Xtic = {}\n",
    "for t, i in model.TI:\n",
    "    for c in model.Nc:\n",
    "        if (t,i,c) in Xtic:\n",
    "            Dict_Xtic[(t,i,c)] = 1\n",
    "        else:\n",
    "            Dict_Xtic[(t,i,c)] = 0\n",
    "            \n",
    "model.Xtic = Param(model.TI, model.Nc, initialize=Dict_Xtic)\n",
    "\n",
    "\n",
    "model.del_component( 'Zsfc')\n",
    "model.del_component( 'Zsfc_index')\n",
    "model.del_component( 'Zsfc_index_index_0')\n",
    "Dict_Zsfc = {}\n",
    "for s, f in model.SF:\n",
    "    for c in model.Nc:\n",
    "        if (s,f,c) in Zsfc:\n",
    "            Dict_Zsfc[(s,f,c)] = 1\n",
    "        else:\n",
    "            Dict_Zsfc[(s,f,c)] = 0\n",
    "            \n",
    "model.Zsfc = Param(model.SF, model.Nc, initialize=Dict_Zsfc)"
   ]
  },
  {
   "cell_type": "markdown",
   "metadata": {},
   "source": [
    "### PDU Session Parameters"
   ]
  },
  {
   "cell_type": "code",
   "execution_count": 18,
   "metadata": {},
   "outputs": [],
   "source": [
    "# SFCR processing demand \n",
    "model.del_component( 'C_s')\n",
    "model.C_s = Param(model.S, initialize=Dict_C_s)\n",
    "\n",
    "\n",
    "# SFCR latency demand \n",
    "model.del_component( 'Lreq_s')\n",
    "model.Lreq_s = Param(model.S, initialize=Dict_Lreq_s)\n",
    "\n",
    "\n",
    "#Link_Bandwidth demand\n",
    "model.del_component( 'beta_s')\n",
    "model.beta_s = Param(model.S, initialize=Dict_Beta_s)\n",
    "\n",
    "\n",
    "# VNF presence in a branch P[s,b,f]= 1 if vnf f is present in branch b of sfc s\n",
    "model.del_component( 'P_sbf')\n",
    "model.del_component( 'P_sbf_index')\n",
    "model.del_component( 'P_sbf_index_index_0')\n",
    "\n",
    "P_s= {}\n",
    "for s,b,f in model.SBF: \n",
    "    P_s[(s,b,f)] = List_P_s[s-1][b-1][f-1]    \n",
    "model.P_sbf = Param(model.SBF, initialize=P_s)\n",
    "\n",
    "\n",
    "#T_stf= 1 if VNF f in SFCs s is of type t\n",
    "model.del_component( 'T_sft')\n",
    "model.del_component( 'T_sft_index')\n",
    "model.del_component( 'T_sft_index_index_0')  \n",
    "\n",
    "Dict_T_sft ={} #key=(s,f,t), value= 1 if f is of type t, 0 otherwise\n",
    "for s,f in model.SF:\n",
    "    for t in model.T:\n",
    "        if t == List_T_s[s-1][f-1]:\n",
    "            Dict_T_sft[(s,f,t)]= 1\n",
    "        else:\n",
    "            Dict_T_sft[(s,f,t)]= 0             \n",
    "model.T_sft = Param(model.SF, model.T, initialize=Dict_T_sft)\n",
    "\n",
    "\n",
    "# Node Supported Type of VNF\n",
    "Dict_S_nt = {}  #dict with keys (n,t) and binary values, been 1 if node n support VNF type t, 0 otherwise\n",
    "for n in model.Nc:\n",
    "    for t in model.T:\n",
    "        Dict_S_nt[(n,t)]=1\n",
    "            \n",
    "model.del_component( 'NodeSupportType')\n",
    "model.del_component( 'NodeSupportType_index')\n",
    "model.NodeSupportType = Param(model.N, model.T, initialize=Dict_S_nt)\n",
    "\n",
    "\n",
    "#O_sbfg= 1 if vnf f goes before g in branch b of sfc s\n",
    "model.del_component( 'SBFG')\n",
    "model.del_component( 'SBFG_index')\n",
    "model.del_component( 'SBFG_index_index_0')    \n",
    "model.del_component( 'SBFG_index_index_0_index_0')\n",
    "\n",
    "Dict_O_sbfg = {}\n",
    "for s,b in model.SB:\n",
    "    for f in model.F[s]:        \n",
    "        for g in model.F[s]:\n",
    "            Dict_O_sbfg[(s,b,f,g)]= List_O_s[s-1][b-1][f-1][g-1]\n",
    "model.SBFG = Set(dimen=4, initialize=Dict_O_sbfg.keys())\n",
    "\n",
    "\n",
    "model.del_component( 'O_sbfg')\n",
    "model.del_component( 'O_sbfg_index')\n",
    "model.del_component( 'O_sbfg_index_index_0')    \n",
    "model.del_component( 'O_sbfg_index_index_0_index_0')\n",
    "model.O_sbfg = Param(model.SBFG,  initialize=Dict_O_sbfg)\n",
    "\n",
    "\n",
    "#Ô_sbg= 1 if vnf g is the first vnf in branch b of sfc s\n",
    "model.del_component( 'Ô_sbg')\n",
    "model.del_component( 'Ô_sbg_index')\n",
    "model.del_component( 'Ô_sbg_index_index_0') \n",
    "Dict_O_sbg = {}\n",
    "for s,b in model.SB:\n",
    "    for g in model.F[s]: \n",
    "        Dict_O_sbg[(s,b,g)] = List_O_s[s-1][b-1][len(model.F[s])][g-1]  #len(model.F[s])= position of ran in List_O_s\n",
    "\n",
    "model.Ô_sbg = Param(model.SBF,  initialize=Dict_O_sbg)\n",
    "\n",
    "\n",
    "# Paths_source_s Has a list with all the paths that have the bs of s as source.\n",
    "model.del_component( 'Paths_source_s')\n",
    "model.del_component( 'Paths_source_s_index')\n",
    "model.del_component( 'Paths_source_s_index_index_0')\n",
    "Dict_s_sourcepaths = {}\n",
    "for s in model.S:\n",
    "    source = Nr.index(users_sourceBS[s])+len(Nc)+1\n",
    "    for p in Paths_rxc.keys():\n",
    "        if source == p[0]:\n",
    "            Dict_s_sourcepaths.setdefault(s, []).append(p)\n",
    "            \n",
    "model.Paths_source_s = Set(model.S, initialize= Dict_s_sourcepaths)"
   ]
  },
  {
   "cell_type": "markdown",
   "metadata": {},
   "source": [
    "## Defining the Variables"
   ]
  },
  {
   "cell_type": "code",
   "execution_count": 19,
   "metadata": {},
   "outputs": [],
   "source": [
    "# w[c]= 1 if node c is open\n",
    "model.del_component( 'w') \n",
    "model.w = Var(model.Nc,  within=Binary, initialize=0)\n",
    "\n",
    "\n",
    "# x[m,t,c]=1 if instance m of VNF type t is deployed at node c\n",
    "model.del_component( 'x')\n",
    "model.del_component( 'x_index')\n",
    "model.del_component( 'x_index_index_0')\n",
    "model.x = Var(model.TI, model.Nc, within=Binary, initialize=0)\n",
    "\n",
    "\n",
    "# a[s,f,t,i,c]=1 if VNF f of SFCR s is assigned to instance m of VNF type t is deployed at node c\n",
    "model.del_component( 'a')\n",
    "model.del_component( 'a_index')\n",
    "model.del_component( 'a_index_index_0')\n",
    "model.del_component( 'a_index_index_0_index_0')\n",
    "model.del_component( 'a_index_index_0_index_0_index_0')\n",
    "model.a = Var(model.SF, model.TI, model.Nc, within=Binary, initialize=0)\n",
    "\n",
    "\n",
    "# z[s,f,c] = 1 if the VNF f of theSFC s is assigned to node c\n",
    "model.del_component( 'z')\n",
    "model.del_component( 'z_index')\n",
    "model.del_component( 'z_index_index_0')\n",
    "model.z = Var(model.SF, model.Nc, within=Binary, initialize=0)\n",
    "\n",
    "\n",
    "# y[s,b,f,g,n,m,h]= 1 if path h between nodes (i,j) is used to route traffic between VNFs f and g in branch b \n",
    "                    # of SFCR s \n",
    "model.del_component( 'y')\n",
    "model.del_component( 'y_index')\n",
    "model.del_component( 'y_index_index_0')\n",
    "model.del_component( 'y_index_index_0_index_0')\n",
    "model.del_component( 'y_index_index_0_index_0_index_0')\n",
    "model.del_component( 'y_index_index_0_index_0_index_0_index_0')\n",
    "model.y = Var(model.SFG, model.Paths_cxc, within=Binary, initialize=0)\n",
    "\n",
    "\n",
    "# ŷ[s,b,g,source,m,h]= 1 if path h between nodes (source,j) is used to route traffic between the BS and VNF g \n",
    "                        # in branch b of SFCR s \n",
    "model.del_component( 'ŷ')\n",
    "model.del_component( 'ŷ_index')\n",
    "model.del_component( 'ŷ_index_index_0')\n",
    "model.del_component( 'ŷ_index_index_0_index_0')\n",
    "model.del_component( 'ŷ_index_index_0_index_0_index_0')\n",
    "model.ŷ = Var(model.SF, model.Paths_rxc, within=Binary, initialize=0)"
   ]
  },
  {
   "cell_type": "markdown",
   "metadata": {},
   "source": [
    "### Linearization variables"
   ]
  },
  {
   "cell_type": "code",
   "execution_count": 20,
   "metadata": {},
   "outputs": [],
   "source": [
    "# delta[s,b,f,g,i,j]=1 if virtual link (i,j) may route traffic between VNFs f and g of SFCR s. To linearize.\n",
    "model.del_component( 'delta')\n",
    "model.del_component( 'delta_index')\n",
    "model.del_component( 'delta_index_index_0')\n",
    "model.del_component( 'delta_index_index_0_index_0')\n",
    "model.del_component( 'delta_index_index_0_index_0_index_0')\n",
    "model.delta = Var( model.SFG, model.Paths_nm,  within=Binary, initialize=0)\n",
    "\n",
    "\n",
    "# model.delta_n[t] = 1 if there is at least a new instance of type t deployed. Otherwise, it's zero.\n",
    "model.del_component( 'delta_n')\n",
    "model.delta_n = Var(model.T, within=Binary, initialize= 0)\n",
    "\n",
    "\n",
    "# model.m[t,i,c,e] = 1 if vnf t,i was migrated from c fo e\n",
    "model.del_component( 'm')\n",
    "model.del_component( 'm_index')\n",
    "model.del_component( 'm_index_index_0')\n",
    "model.del_component( 'm_index_index_0_index_0')\n",
    "model.m = Var(model.U, model.Nc, model.Nc, within= Binary, initialize=0)\n",
    "\n",
    "\n",
    "# n[t,i]= 1 if instnace i of type t is new\n",
    "model.del_component( 'n') \n",
    "model.del_component( 'n_index') \n",
    "model.n = Var(model.TI,  within=Binary, initialize=0)\n",
    "\n",
    "\n",
    "#r[s] = 1 if PDU session s has been reassigned. At least one vnf has change of location\n",
    "model.del_component( 'r')\n",
    "model.r = Var(model.S, within=Binary, initialize=0)"
   ]
  },
  {
   "attachments": {},
   "cell_type": "markdown",
   "metadata": {},
   "source": [
    "## Defining the Objective\n",
    "\n",
    "Initially the objective is minimize the number of VNF instances\n",
    "\n",
    "- Node activation cost\n",
    "$C_{act} = \\sum \\limits_{n\\in N_c} \\Psi_{a}^{n} \\cdot w_{n}$\n",
    "\n",
    "-  VNF deployment cost \n",
    "$  C_{dep} = \\sum \\limits_{i \\in I_t}\\sum \\limits_{t\\in T} \\Psi_{d}^{t} \\cdot v_{i,t}$\n",
    "\n",
    "- VNF running cost\n",
    "$ C_{run} = \\sum \\limits_{i \\in I_t}\\sum \\limits_{t\\in T} \\sum \\limits_{n \\in N_c} \\Psi_r^{t,n} \\cdot x_{i,t,n}$\n",
    "\n",
    "- VNF migration cost\n",
    "$ C_{mig}= \\sum \\limits_{(i,t) \\in F} \\sum \\limits_{  n^{\\tiny \\prime} \\in N_c}\\sum \\limits_{  n \\in N_c} \\Psi_m^{t, n^{\\tiny\\prime},n} \\cdot m_{n^{\\tiny \\prime},n}^{i,t}$\n",
    "\n",
    "- Routing cost\n",
    "$ C_{rou} =  \\sum\\limits_{f,g \\in F_s^+}  \\sum\\limits_{ s \\in S} \\sum\\limits_{ p \\in P}  \\Psi^{s,p} \\cdot d_{p} \\cdot  y_{p}^{f,g,s}$\n",
    "\n",
    "- Session reassignment cost\n",
    "$C_{rea} =  \\sum\\limits_{  s \\in S} \\Psi ^s \\cdot r_s$"
   ]
  },
  {
   "cell_type": "code",
   "execution_count": 22,
   "metadata": {},
   "outputs": [],
   "source": [
    "model.del_component( 'Objective')\n",
    "\n",
    "# weight factors\n",
    "w_a = params.WEIGHT_D_EN            # NODE ACTIVATION\n",
    "w_r = params.WEIGHT_D_RUN           # VNF operation\n",
    "w_d = params.WEIGHT_D_DEP           # VNF deployment\n",
    "w_m = params.WEIGHT_D_MIG           # VNF migration\n",
    "w_l = params.WEIGHT_D_ROU           # traffic routing\n",
    "w_s = params.WEIGHT_D_REA           # session reassignment\n",
    "\n",
    "def Objective_rule(model):\n",
    "    \n",
    "    # Node activation cost\n",
    "    Activation = sum( model.w[c] for c in model.Nc)\n",
    "    Nor_Activation = Activation/len(Nc)   # maximum number of servers\n",
    "    \n",
    "    # VNF Running cost\n",
    "    Running = sum(model.x[t,i,c] for t,i in model.TI for c in model.Nc)\n",
    "    Max_Num_Instances = sum(M_t.values())-len(Nr) \n",
    "    Nor_Running = Running/Max_Num_Instances\n",
    "    \n",
    "    # VNF deploymnet cost:new deployments\n",
    "    Deployment = sum(model.n[t,i] for t,i in model.TI )\n",
    "    Max_num_newinstances = Max_Num_Instances - len(Xtic)\n",
    "    Nor_Deployment = Deployment/Max_num_newinstances\n",
    "    \n",
    "    # Migration cost\n",
    "    Migration = sum(model.m[t,i,c,e] for c in model.Nc for e in model.Nc if c!=e \n",
    "                    for t,i in model.U )\n",
    "    Max_num_migrations = len(Xtic)\n",
    "    Nor_Migration = Migration/Max_num_migrations\n",
    "\n",
    "    # Routing Cost\n",
    "    Latency_bs_nf1 = sum(model.D_prop[n,m,h]*model.ŷ[s,g,n,m,h]*model.Ô_sbg[s,b,g]              # latency in the segment RAN-VNF1\n",
    "                             for s,b in model.SB  for g in model.F[s]  \n",
    "                             for n,m,h in model.Paths_rxc)\n",
    "    Latency_nfs = sum(model.D_prop[n,m,h]*model.y[s,f,g,n,m,h]*model.O_sbfg[s,b,f,g]            # Latency between VNFs\n",
    "                                          for s,b in model.SB for f in model.F[s] for g in model.F[s]\n",
    "                                          for n,m,h in model.Paths_cxc) \n",
    "    Latency_oneway = Latency_bs_nf1 + Latency_nfs                                \n",
    "    Nor_Latency_oneway = Latency_oneway/(100*sum(List_B_s))\n",
    "\n",
    "    #Reassigned sessions\n",
    "    Reassignments = sum(model.r[s] for s in model.S)\n",
    "    Nor_Reassignments = Reassignments/S\n",
    "    \n",
    "    \n",
    "    obj = (w_a*Nor_Activation + w_r*Nor_Running + w_d*Nor_Deployment + w_m*Nor_Migration +\n",
    "           w_l*Nor_Latency_oneway + w_s*Nor_Reassignments)\n",
    "    \n",
    "    return obj\n",
    "\n",
    "model.Objective = Objective(rule=Objective_rule, sense=minimize)"
   ]
  },
  {
   "cell_type": "markdown",
   "metadata": {},
   "source": [
    "## Defining the Constraints"
   ]
  },
  {
   "cell_type": "markdown",
   "metadata": {},
   "source": [
    "##### C1: Node Capacity\n",
    "\n",
    "$\\sum \\limits_{t\\in T}\\sum \\limits_{m\\in I_t}C_t*x_{t,i,c}<= C_c   \\hspace{30pt} \\forall c \\in N_c$"
   ]
  },
  {
   "cell_type": "code",
   "execution_count": 23,
   "metadata": {},
   "outputs": [],
   "source": [
    "model.del_component( 'NodeCapacity')\n",
    "\n",
    "def NodeCapacity_rule(model,c):\n",
    "    return sum(model.C_t[t]*(model.x[t,i,c]) for t,i in model.TI) <= model.C_c[c]\n",
    "\n",
    "model.NodeCapacity = Constraint(model.Nc, rule=NodeCapacity_rule)"
   ]
  },
  {
   "cell_type": "markdown",
   "metadata": {},
   "source": [
    "##### C2: VNF Capacity\n",
    "\n",
    "$ \\sum \\limits_{s\\in S}\\sum \\limits_{f \\in F_s} C_s \\cdot a_{t,i,n}^{s,f} \\leq C_t  \\hspace{30pt}\\forall i \\in I_t, \\forall t \\in T,  \\forall n \\in N_c $"
   ]
  },
  {
   "cell_type": "code",
   "execution_count": 25,
   "metadata": {},
   "outputs": [],
   "source": [
    "model.del_component( 'VNFCapacity')\n",
    "model.del_component( 'VNFCapacity_index')\n",
    "model.del_component( 'VNFCapacity_index_index_0')\n",
    "\n",
    "def VNFCapacity_rule(model,t,i,c):\n",
    "    return sum((model.C_s[s]*model.a[s,f,t,i,c]) for s,f in model.SF) <= alpha*model.C_t[t]\n",
    "\n",
    "model.VNFCapacity = Constraint(model.TI, model.Nc, rule=VNFCapacity_rule)"
   ]
  },
  {
   "attachments": {},
   "cell_type": "markdown",
   "metadata": {},
   "source": [
    "##### C3: Link Capacity\n",
    "\n",
    "$ \\sum\\limits_{s\\in S} \\sum\\limits_{f,g\\in F_s^+}\\sum\\limits_{p\\in P} \\beta_s \\cdot y_{p}^{s,f,g} \\cdot W_{u,v}^{p}\\leq \\beta_{u,v} \\hspace{30pt} \\forall (u,v) \\in E $"
   ]
  },
  {
   "cell_type": "code",
   "execution_count": 27,
   "metadata": {},
   "outputs": [],
   "source": [
    "model.del_component( 'LinkCapacity')\n",
    "model.del_component( 'LinkCapacity_index')\n",
    "\n",
    "def LinkCapacity_rule(model, i,j):\n",
    "   \n",
    "    link_cap = (sum(model.beta_s[s]*model.y[s,f,g,n,m,h]* model.W_nmh_uv[n,m,h,i,j] \n",
    "                    for s,f,g in model.SFG for n,m,h in model.Paths_cxc)+sum(model.beta_s[s]*model.ŷ[s,g,n,m,h]* model.W_nmh_uv[n,m,h,i,j] \n",
    "                                                                        for s,g in model.SF for n,m,h in model.Paths_rxc))\n",
    "                    \n",
    "    return link_cap <= model.Link_bw[i,j]\n",
    "\n",
    "model.LinkCapacity = Constraint(model.E, rule=LinkCapacity_rule)"
   ]
  },
  {
   "attachments": {},
   "cell_type": "markdown",
   "metadata": {},
   "source": [
    "##### C4: Maximum number of intances of a type t\n",
    "\n",
    "$ \\sum \\limits_{i \\in I_t} \\sum \\limits_{n \\in N_c} x_{t,i,n} \\leq I_t \\hspace{30pt}  \\forall t\\in T$ "
   ]
  },
  {
   "cell_type": "code",
   "execution_count": 29,
   "metadata": {},
   "outputs": [],
   "source": [
    "model.del_component( 'MaxNUmVNFType')\n",
    "\n",
    "def MaxNUmVNFType_rule(model,t):\n",
    "    return sum(model.x[t,m,c] for m in model.I_t[t] for c in model.Nc)  <= model.MaxM_t[t]\n",
    "\n",
    "model.MaxNUmVNFType = Constraint(model.T, rule=MaxNUmVNFType_rule)"
   ]
  },
  {
   "cell_type": "markdown",
   "metadata": {},
   "source": [
    "##### C5: Mapping of a VNF Instance \n",
    "\n",
    "Each VNf instance must be mapped to only one node (server)\n",
    "\n",
    "$\\sum \\limits_{c\\in Nc}x_{t,i,c} \\leq 1   \\hspace{30pt} \\forall t \\in T, \\forall i \\in It$"
   ]
  },
  {
   "cell_type": "code",
   "execution_count": 31,
   "metadata": {},
   "outputs": [],
   "source": [
    "model.del_component( 'MappingVNFInstance')\n",
    "model.del_component( 'MappingVNFInstance_index')\n",
    "\n",
    "def MappingVNFInstance_rule(model,t, i):\n",
    "    return sum(model.x[t,i,c] for c in model.Nc) <= 1\n",
    "\n",
    "model.MappingVNFInstance = Constraint(model.TI, rule=MappingVNFInstance_rule)"
   ]
  },
  {
   "cell_type": "markdown",
   "metadata": {},
   "source": [
    "#### C: Node open\n",
    "\n",
    "An instance of a VNF type can be deployed on a node only if this is open\n",
    "\n",
    "$x_{t,i,c} \\leq w_{c}   \\hspace{30pt} \\forall t \\in T, \\forall i \\in I_t, \\forall c \\in N$"
   ]
  },
  {
   "cell_type": "code",
   "execution_count": 32,
   "metadata": {},
   "outputs": [],
   "source": [
    "model.del_component( 'Opening')\n",
    "model.del_component( 'Opening_index')\n",
    "model.del_component( 'Opening_index_index_0')\n",
    "\n",
    "def Opening_rule(model,c,t,i):\n",
    "    return model.x[t,i,c] <= model.w[c]*model.NodeSupportType[c,t] \n",
    "\n",
    "model.Opening = Constraint(model.Nc, model.TI, rule=Opening_rule)"
   ]
  },
  {
   "cell_type": "markdown",
   "metadata": {},
   "source": [
    "#### C: Node open part2\n",
    "\n",
    "A node is open if it has deployed at east one vnf instance\n",
    "\n",
    "$ \\sum \\limits_{\\forall t \\in T} \\sum \\limits_{\\forall i \\in I_t}  x_{t,i,c} \\geq w_{c}   \\hspace{30pt}   \\forall c \\in N$"
   ]
  },
  {
   "cell_type": "code",
   "execution_count": 34,
   "metadata": {},
   "outputs": [],
   "source": [
    "model.del_component( 'Opening2')\n",
    "\n",
    "def Opening2_rule(model,c):\n",
    "    return sum(model.x[t,i,c] for t,i in model.TI) >= model.w[c]\n",
    "\n",
    "model.Opening2 = Constraint(model.Nc,  rule=Opening2_rule)"
   ]
  },
  {
   "attachments": {},
   "cell_type": "markdown",
   "metadata": {},
   "source": [
    "#### C: maximum number of new instances deployed during a reconfiguration\n",
    "\n",
    "$ \\sum \\limits_{i \\in I_t} v_{t,i} = [\\sum \\limits_{n \\in N_c}\\sum\\limits_{i \\in I_t} x_{t,i,n} - \\sum \\limits_{n \\in N_c}\\sum\\limits_{i \\in I_t} X_{t,i,n}]^+  \\hspace{30pt} \\forall t \\in T$\n"
   ]
  },
  {
   "cell_type": "code",
   "execution_count": 35,
   "metadata": {
    "scrolled": true
   },
   "outputs": [],
   "source": [
    "# linear form\n",
    "\n",
    "model.del_component( 'Num_newvnfs1')\n",
    "\n",
    "def Num_newvnfs1_rule(model,t):\n",
    "    Num_newinstances = sum(model.x[t,i,c] for i in model.I_t[t] for c in model.Nc) - sum(model.Xtic[t,i,c] for i in model.I_t[t] \n",
    "                                                                                       for c in model.Nc)\n",
    "    return model.delta_n[t] >= Num_newinstances/M_t[t]\n",
    "\n",
    "model.Num_newvnfs1 = Constraint(model.T, rule=Num_newvnfs1_rule)   \n",
    "\n",
    "\n",
    "\n",
    "model.del_component( 'Num_newvnfs2')\n",
    "\n",
    "def Num_newvnfs2_rule(model,t):\n",
    "    Num_newinstances = sum(model.x[t,i,c] for i in model.I_t[t] for c in model.Nc) - sum(model.Xtic[t,i,c] \n",
    "                                                                                       for i in model.I_t[t] \n",
    "                                                                                       for c in model.Nc)\n",
    "    return model.delta_n[t] <= (1 - (1-Num_newinstances)/(M_t[t] + 1))\n",
    "        \n",
    "model.Num_newvnfs2 = Constraint(model.T, rule=Num_newvnfs2_rule)   \n",
    "\n",
    "\n",
    "\n",
    "model.del_component( 'Num_newvnfs')\n",
    "\n",
    "def Num_newvnfs_rule(model,t):\n",
    "    Num_newinstances = sum(model.x[t,i,c] for i in model.I_t[t] for c in model.Nc) - sum(model.Xtic[t,i,c] \n",
    "                                                                                       for i in model.I_t[t] \n",
    "                                                                                       for c in model.Nc)\n",
    "    return sum(model.n[t,i] for i in model.I_t[t]) == model.delta_n[t]*Num_newinstances\n",
    "\n",
    "model.Num_newvnfs = Constraint(model.T, rule=Num_newvnfs_rule)  "
   ]
  },
  {
   "cell_type": "markdown",
   "metadata": {},
   "source": [
    "#### C: New instance of type t deployed\n",
    "\n",
    "$ v_{t,i} = (\\sum \\limits_{n \\in N_c} x_{t,i,n} - \\sum \\limits_{n \\in N_c} X_{t,i,n})^+ \\hspace{30 pt} \\forall i \\in I_t, \\forall t \\in T$\n"
   ]
  },
  {
   "cell_type": "code",
   "execution_count": 42,
   "metadata": {},
   "outputs": [],
   "source": [
    "# linear form\n",
    " \n",
    "model.del_component( 'NewInstance1')\n",
    "model.del_component( 'NewInstance1_index')\n",
    "\n",
    "def NewInstance1_rule(model, t,i):\n",
    "    newinstance = sum(model.x[t,i,c] for c in model.Nc) - sum(model.Xtic[t,i,c] for c in model.Nc)\n",
    "    \n",
    "    return model.n[t,i]  >=  newinstance\n",
    "    \n",
    "model.NewInstance1 = Constraint( model.TI, rule= NewInstance1_rule)\n",
    "\n",
    "\n",
    "\n",
    "model.del_component( 'NewInstance2')\n",
    "model.del_component( 'NewInstance2_index')\n",
    "\n",
    "def NewInstance2_rule(model, t,i):\n",
    "    newinstance = sum(model.x[t,i,c] for c in model.Nc) - sum(model.Xtic[t,i,c] for c in model.Nc)\n",
    "    \n",
    "    return model.n[t,i] <= (1 + newinstance)/2 \n",
    "    \n",
    "model.NewInstance2 = Constraint( model.TI, rule= NewInstance2_rule)"
   ]
  },
  {
   "cell_type": "markdown",
   "metadata": {},
   "source": [
    "#### C: migration\n",
    "\n",
    " $ m_{t,i,n^{\\tiny\\prime},n} =  x_{t,i,n}\\cdot X_{t,i,n^{\\tiny\\prime}} \\hspace{30 pt} \\forall i \\in I_t, \\forall t \\in T,  \\forall n,n^{\\tiny\\prime} \\in  N_c; n \\neq n^{\\tiny\\prime}$"
   ]
  },
  {
   "cell_type": "code",
   "execution_count": 46,
   "metadata": {},
   "outputs": [],
   "source": [
    "#Variant1:\n",
    "\n",
    "model.del_component( 'Migration')\n",
    "model.del_component( 'Migration_index')\n",
    "model.del_component( 'Migration_index_index_0')\n",
    "model.del_component( 'Migration_index_index_0_index_0')\n",
    "\n",
    "def Migration_rule(model,t,i,c,e):\n",
    "    if c!=e:\n",
    "        return model.m[t,i,c,e] == model.x[t,i,e]*model.Xtic[t,i,c]\n",
    "    else:\n",
    "        return model.m[t,i,c,e] <= 0\n",
    "\n",
    "model.Migration = Constraint(model.U, model.Nc, model.Nc, rule=Migration_rule)"
   ]
  },
  {
   "attachments": {},
   "cell_type": "markdown",
   "metadata": {},
   "source": [
    "#### C: Reassignment of session\n",
    "\n",
    "$ r_s = 1 \\Leftrightarrow |F_s| -   \\sum \\limits_{f \\in F_s}\\sum \\limits_{n \\in N_c} a_n^{f,s} \\cdot \\bar A_n^{f,s} \\geq 1 \\hspace{30 pt}  \\forall s \\in S $"
   ]
  },
  {
   "cell_type": "code",
   "execution_count": 48,
   "metadata": {},
   "outputs": [],
   "source": [
    "#linear form\n",
    "\n",
    "model.del_component( 'Reassignment1')\n",
    "\n",
    "def Reassignment1_rule(model, s):\n",
    "    return ( sum(model.z[s,f,c]*model.Zsfc[s,f,c] for f in model.F[s] for c in model.Nc) >= \n",
    "            len(model.F[s])*(1-model.r[s]) )\n",
    "\n",
    "model.Reassignment1 = Constraint(model.S, rule= Reassignment1_rule)\n",
    "\n",
    "\n",
    "\n",
    "model.del_component( 'Reassignment2')\n",
    "\n",
    "def Reassignment2_rule(model, s):\n",
    "    return (sum(model.z[s,f,c]*model.Zsfc[s,f,c] for f in model.F[s] for c in model.Nc) <= \n",
    "            len(model.F[s])-model.r[s])\n",
    "         \n",
    "model.Reassignment2 = Constraint(model.S, rule= Reassignment2_rule)"
   ]
  },
  {
   "cell_type": "markdown",
   "metadata": {},
   "source": [
    "##### C: Mapping of  VNF service Requests in a  SFCR\n",
    "\n",
    "Each VNf service requested by a SFCR must be mapped to exactly one VNF instance \n",
    "\n",
    "$\\sum \\limits_{t\\in T}\\sum \\limits_{i\\in It}\\sum \\limits_{c\\in Nc}a_{t,i,c}^{s,b} = 1   \\hspace{30pt} \\forall f \\in Fs, \\forall s \\in S$"
   ]
  },
  {
   "cell_type": "code",
   "execution_count": 52,
   "metadata": {},
   "outputs": [],
   "source": [
    "model.del_component( 'MappingVNFRequest')\n",
    "model.del_component( 'MappingVNFRequest_Request')\n",
    "\n",
    "def MappingVNFRequest_rule(model,s, f):\n",
    "    return sum(model.a[s,f,t,m,c] for t,m in model.TI for c in model.Nc) == 1\n",
    "\n",
    "model.MappingVNFRequest = Constraint(model.SF, rule=MappingVNFRequest_rule)"
   ]
  },
  {
   "attachments": {},
   "cell_type": "markdown",
   "metadata": {},
   "source": [
    "##### C: No empty VNF instances\n",
    "A VNF service reuested by a SFC can be assigned to an instance of a VNF at a server if this is already deployed and is of the requested type\n",
    "\n",
    "$  x_{t,i,c}\\leq  \\sum \\limits_{\\forall s \\in S} \\sum \\limits_{\\forall f \\in F_s} a_{t,i,c}^{s,f}  \\hspace{30pt}  \\forall t\\in T, \\forall i\\in It, \\forall c\\in Nc$"
   ]
  },
  {
   "cell_type": "code",
   "execution_count": 54,
   "metadata": {},
   "outputs": [],
   "source": [
    "model.del_component( 'NoemptyVNF')\n",
    "model.del_component( 'NoemptyVNF_index')\n",
    "model.del_component( 'NoemptyVNF_index_index_0')\n",
    "\n",
    "def Noempty_rule(model, t,i,c):\n",
    "    return model.x[t,i,c] <= sum(model.a[s,f,t,i,c] for s,f in model.SF)\n",
    "\n",
    "model.NoemptyVNF = Constraint(model.TI, model.Nc, rule = Noempty_rule)"
   ]
  },
  {
   "cell_type": "markdown",
   "metadata": {},
   "source": [
    "##### C: VNF f in SFCR s must be Assigned to a instance of its same type\n",
    "\n",
    "A VNF service reuested by a SFC can be assigned to an instance of a VNF at a server if this is already deployed and is of the requested type\n",
    "\n",
    "$ a_{t,i,c}^{s,b} \\leq x_{t,i,c} \\cdot T_s^{f,t}   \\hspace{30pt} \\forall f \\in F_s, \\forall s \\in S, \\forall t\\in T, \\forall i\\in It, \\forall c\\in Nc$"
   ]
  },
  {
   "cell_type": "code",
   "execution_count": 56,
   "metadata": {},
   "outputs": [],
   "source": [
    "model.del_component( 'VNFAssignment')\n",
    "model.del_component( 'VNFAssignment_index')\n",
    "model.del_component( 'VNFAssignment_index_index_0')\n",
    "model.del_component( 'VNFAssignment_index_index_0_index_0')\n",
    "model.del_component( 'VNFAssignment_index_index_0_index_0_index_0')\n",
    " \n",
    "def VNFAssignment_rule(model,s,f,t,i,c):\n",
    "    return model.a[s,f,t,i,c] <= model.x[t,i,c]*model.T_sft[s,f,t]\n",
    "\n",
    "model.VNFAssignment = Constraint(model.SF, model.TI, model.Nc, rule=VNFAssignment_rule)"
   ]
  },
  {
   "cell_type": "markdown",
   "metadata": {},
   "source": [
    "##### C: VNF assigned to an instance in its assigned node\n",
    "\n",
    "A VNF service reuested by a SFC can be assigned to an instance of a VNF at a server if this has been mapped to the server\n",
    "\n",
    "$ a_{t,i,c}^{s,b} \\leq z_{s,f,c}   \\hspace{30pt} \\forall f \\in F_s, \\forall s \\in S, \\forall t\\in T, \\forall i\\in It, \\forall c\\in Nc$"
   ]
  },
  {
   "cell_type": "code",
   "execution_count": 58,
   "metadata": {},
   "outputs": [],
   "source": [
    "model.del_component( 'VNF_Branch')\n",
    "model.del_component( 'VNF_Branch_index')\n",
    "model.del_component( 'VNF_Branch_index_index_0')\n",
    "model.del_component( 'VNF_Branch_index_index_0_index_0')\n",
    "model.del_component( 'VNF_Branch_index_index_0_index_0_index_0')\n",
    "\n",
    "def VNF_Branch_rule(model, s,f,t,i,c):\n",
    "    return model.a[s,f,t,i,c] <= model.z[s,f,c] \n",
    "\n",
    "model.VNF_Branch = Constraint(model.SF, model.TI, model.Nc, rule= VNF_Branch_rule)"
   ]
  },
  {
   "cell_type": "code",
   "execution_count": 59,
   "metadata": {
    "scrolled": true
   },
   "outputs": [],
   "source": [
    "# model.VNF_Branch.display()"
   ]
  },
  {
   "cell_type": "markdown",
   "metadata": {},
   "source": [
    "##### C: VNF assigned to an instance in its assigned node\n",
    "\n",
    "A VNF service reuested by a SFC can be assigned to an instance of a VNF at a server if this has been mapped to the server\n",
    "\n",
    "$ z_{s,f,c} \\leq \\sum \\limits_{\\forall t\\in T}\\sum \\limits_{ \\forall i\\in It} a_{t,i,c}^{s,b}   \\hspace{30pt} \\forall f \\in F_s, \\forall s \\in S, \\forall c\\in Nc$"
   ]
  },
  {
   "cell_type": "code",
   "execution_count": 60,
   "metadata": {},
   "outputs": [],
   "source": [
    "model.del_component( 'A_Z')\n",
    "model.del_component( 'A_Z_index')\n",
    "model.del_component( 'A_Z_index_index_0')\n",
    "\n",
    "def A_Z_rule(model, s,f,c):\n",
    "    return  model.z[s,f,c] <= sum(model.a[s,f,t,i,c] for t,i in model.TI)\n",
    "\n",
    "model.A_Z = Constraint(model.SF, model.Nc, rule= A_Z_rule)"
   ]
  },
  {
   "cell_type": "code",
   "execution_count": 61,
   "metadata": {},
   "outputs": [],
   "source": [
    "# model.A_Z .display()"
   ]
  },
  {
   "cell_type": "markdown",
   "metadata": {},
   "source": [
    "\n",
    "#### C : Link_Order\n",
    "\n",
    "Guarantees the existence of a path in the required direction between two consecutive VNFs in a sfc\n",
    "\n",
    "$ \\sum\\limits_{(i,j) \\in E} y_{i,j}^{f,g,b,s} \\geq O_{s,b,f,g} \\hspace{30pt} \\forall b \\in B_s,\\forall s \\in S, \\forall f,g \\in F_s$"
   ]
  },
  {
   "cell_type": "code",
   "execution_count": 62,
   "metadata": {},
   "outputs": [],
   "source": [
    "model.del_component( 'LinkOrder1')\n",
    "model.del_component( 'LinkOrder1_index')\n",
    "model.del_component( 'LinkOrder1_index_index_0')\n",
    "model.del_component( 'LinkOrder1_index_index_0_index_0')\n",
    "\n",
    "def LinkOrder1_rule(model, s,b,f,g):\n",
    "    return model.O_sbfg[s,b,f,g] <= sum(model.y[s,f,g,n,m,h] for n,m,h in model.Paths_cxc)\n",
    "\n",
    "model.LinkOrder1 = Constraint(model.SBFG, rule= LinkOrder1_rule)"
   ]
  },
  {
   "attachments": {},
   "cell_type": "markdown",
   "metadata": {},
   "source": [
    "\n",
    "#### C : Link_Order_2\n",
    "\n",
    "\n",
    "$ \\sum\\limits_{(i,j) \\in E} y_{i,j}^{f,g,b,s} \\leq 1 \\hspace{30pt} \\forall b \\in B_s,\\forall s \\in S, \\forall f,g \\in F_s$"
   ]
  },
  {
   "cell_type": "code",
   "execution_count": 63,
   "metadata": {},
   "outputs": [],
   "source": [
    "model.del_component( 'LinkOrder2')\n",
    "model.del_component( 'LinkOrder2_index')\n",
    "model.del_component( 'LinkOrder2_index_index_0')\n",
    "model.del_component( 'LinkOrder2_index_index_0_index_0')\n",
    "\n",
    "def LinkOrder2_rule(model, s,f,g):\n",
    "    return 1 >= sum(model.y[s,f,g,n,m,h] for n,m,h in model.Paths_cxc)\n",
    "\n",
    "model.LinkOrder2 = Constraint(model.SFG, rule= LinkOrder2_rule)"
   ]
  },
  {
   "cell_type": "markdown",
   "metadata": {},
   "source": [
    "\n",
    "#### C : Special_Link_Order\n",
    "\n",
    "Guarantees the existence of a path in the required direction between the source node (BS) and the first VNF in each branch of a sfc\n",
    "\n",
    "$ \\sum\\limits_{(i,j) \\in E} ŷ_{source,j}^{g,b,s} \\geq Ô_{s,b,g} \\hspace{30pt} \\forall b \\in B_s,\\forall s \\in S, \\forall g \\in F_s$"
   ]
  },
  {
   "cell_type": "code",
   "execution_count": 64,
   "metadata": {},
   "outputs": [],
   "source": [
    "model.del_component( 'Special_LinkOrder1')\n",
    "model.del_component( 'Special_LinkOrder1_index')\n",
    "model.del_component( 'Special_LinkOrder1_index_index_0')\n",
    "model.del_component( 'Special_LinkOrder1_index_index_0_index_0')\n",
    "\n",
    "def Special_LinkOrder1_rule(model, s,b,g):\n",
    "    return model.Ô_sbg [s,b,g] <= sum(model.ŷ[s,g,n,m,h] for n,m,h in model.Paths_source_s[s])\n",
    "\n",
    "model.Special_LinkOrder1 = Constraint(model.SBF, rule= Special_LinkOrder1_rule)"
   ]
  },
  {
   "cell_type": "markdown",
   "metadata": {},
   "source": [
    "\n",
    "#### C : Special_Link_Order2\n",
    "\n",
    "Guarantees the existence of a path in the required direction between the source node (BS) and the first VNF in each branch of a sfc\n",
    "\n",
    "$ \\sum\\limits_{(i,j) \\in E} ŷ_{source,j}^{g,b,s} \\geq Ô_{s,b,g} \\hspace{30pt} \\forall b \\in B_s,\\forall s \\in S, \\forall g \\in F_s$"
   ]
  },
  {
   "cell_type": "code",
   "execution_count": 65,
   "metadata": {},
   "outputs": [],
   "source": [
    "model.del_component( 'Special_LinkOrder2')\n",
    "model.del_component( 'Special_LinkOrder2_index')\n",
    "model.del_component( 'Special_LinkOrder2_index_index_0')\n",
    "model.del_component( 'Special_LinkOrder2_index_index_0_index_0')\n",
    "\n",
    "def Special_LinkOrder2_rule(model, s,g):\n",
    "    return 1 >= sum(model.ŷ[s,g,n,m,h] for n,m,h in model.Paths_source_s[s])\n",
    "#\n",
    "model.Special_LinkOrder2= Constraint(model.SF, rule= Special_LinkOrder2_rule)"
   ]
  },
  {
   "attachments": {},
   "cell_type": "markdown",
   "metadata": {},
   "source": [
    "#### C: VNF_link\n",
    "\n",
    "$ \\sum\\limits_{(i,j) \\in E} y_{i,j}^{f,g,b,s} \\leq (z_{s,f,i} \\cdot z_{s,g,j})   \\hspace{30 pt}\n",
    "\\forall b \\in B_s,\\forall s \\in S, \\forall f,g \\in F_s,  \\forall i \\in N_c$\n",
    "\n",
    "NOTE: I had to define the constraint using Nc instead of the Paths_nm because since Paths_nm includes the Rans and thereby the constraint gave an error because the set z was defined with Nc and it does not include all the nodes, that is, it does not include the RANs"
   ]
  },
  {
   "cell_type": "code",
   "execution_count": 66,
   "metadata": {},
   "outputs": [],
   "source": [
    "model.del_component( 'VNF_link1')\n",
    "model.del_component( 'VNF_link1_index')\n",
    "model.del_component( 'VNF_link1_index_index_0')\n",
    "model.del_component( 'VNF_link1_index_index_0_index_0')\n",
    "model.del_component( 'VNF_link1_index_index_0_index_0_index_0')\n",
    "model.del_component( 'VNF_link1_index_index_0_index_0_index_0_index_0')\n",
    "\n",
    "def VNF_link1_rule(model, s,f,g,n,m):\n",
    "    return model.z[s,f,n] >= model.delta[s,f,g,n,m]\n",
    "\n",
    "model.VNF_link1 = Constraint(model.SFG, model.Nc, model.Nc, rule= VNF_link1_rule)\n",
    "\n",
    "\n",
    "model.del_component( 'VNF_link2')\n",
    "model.del_component( 'VNF_link2_index')\n",
    "model.del_component( 'VNF_link2_index_index_0')\n",
    "model.del_component( 'VNF_link2_index_index_0_index_0')\n",
    "model.del_component( 'VNF_link2_index_index_0_index_0_index_0')\n",
    "model.del_component( 'VNF_link2_index_index_0_index_0_index_0_index_0')\n",
    "\n",
    "def VNF_link2_rule(model, s,f,g,n,m):\n",
    "    return model.z[s,g,m]>=model.delta[s,f,g,n,m]\n",
    "   \n",
    "model.VNF_link2 = Constraint(model.SFG,  model.Nc, model.Nc, rule= VNF_link2_rule)\n",
    "\n",
    "\n",
    "model.del_component( 'VNF_link3')\n",
    "model.del_component( 'VNF_link3_index')\n",
    "model.del_component( 'VNF_link3_index_index_0')\n",
    "model.del_component( 'VNF_link3_index_index_0_index_0')\n",
    "model.del_component( 'VNF_link3_index_index_0_index_0_index_0')\n",
    "model.del_component( 'VNF_link3_index_index_0_index_0_index_0_index_0')\n",
    "\n",
    "def VNF_link3_rule(model, s,f,g,n,m):\n",
    "    if f!=g:\n",
    "        return model.delta[s,f,g,n,m] >= (model.z[s,f,n] + model.z[s,g,m]-1)\n",
    "                                             \n",
    "    else:\n",
    "        return model.delta[s,f,g,n,m] <= 0\n",
    "    \n",
    "model.VNF_link3 = Constraint(model.SFG, model.Nc, model.Nc,  rule= VNF_link3_rule)\n",
    "\n",
    "\n",
    "model.del_component( 'VNF_link')\n",
    "model.del_component( 'VNF_link_index')\n",
    "model.del_component( 'VNF_link_index_index_0')\n",
    "model.del_component( 'VNF_link_index_index_0_index_0')\n",
    "model.del_component( 'VNF_link_index_index_0_index_0_index_0')\n",
    "model.del_component( 'VNF_link_index_index_0_index_0_index_0_index_0')\n",
    "\n",
    "def VNF_link_rule(model, s,f,g,n,m):\n",
    "    return model.delta[s,f,g,n,m] >= sum(model.y[s,f,g,n,m,h] for h in model.Paths_nmh[n,m])\n",
    "\n",
    "model.VNF_link = Constraint(model.SFG, model.Paths_nm_cxc, rule= VNF_link_rule)"
   ]
  },
  {
   "attachments": {},
   "cell_type": "markdown",
   "metadata": {},
   "source": [
    "#### C: Special_VNF_link\n",
    "\n",
    "Adapts previous constraint when the RAN is a datapath end\n",
    "\n",
    "$ \\sum\\limits_{(i,j) \\in E[s} y_{i,j}^{g,b,s} \\leq z_{s,g,j} \\hspace{30 pt}\n",
    "\\forall b \\in B_s,\\forall s \\in S, \\forall g \\in F_s,  \\forall j \\in N_c$\n"
   ]
  },
  {
   "cell_type": "code",
   "execution_count": 67,
   "metadata": {},
   "outputs": [],
   "source": [
    "model.del_component( 'Special_VNF_link')\n",
    "model.del_component( 'Special_VNF_link_index')\n",
    "model.del_component( 'Special_VNF_link_index_index_0')\n",
    "\n",
    "def Special_VNF_link_rule(model, s,g,m):\n",
    "    n = Nr.index(users_sourceBS[s])+1+len(Nc)\n",
    "    return sum(model.ŷ[s,g,n,m,h] for h in model.Paths_nmh[n,m]) <=  model.z[s,g,m]\n",
    "\n",
    "model.Special_VNF_link = Constraint(model.SF, model.Nc, rule= Special_VNF_link_rule)"
   ]
  },
  {
   "cell_type": "markdown",
   "metadata": {},
   "source": [
    "#### C: Anti-Affinity\n",
    "The VNFs of a same type requested by a same SFCR must be mapped in different servers. In other words, two VNFs of a same time serving a same SFCR must be placed on different servers:\n",
    "\n",
    "$\\sum \\limits_{\\forall f\\in F_s}\\sum \\limits_{ \\forall i\\in It} a_{t,i,c}^{s,f} \\leq 1   \\hspace{30pt} \\forall s \\in S \\forall t\\in T, \\forall c\\in Nc$"
   ]
  },
  {
   "cell_type": "code",
   "execution_count": 68,
   "metadata": {},
   "outputs": [],
   "source": [
    "model.del_component( 'Anti_Affinity')\n",
    "model.del_component( 'Anti_Affinity_index')\n",
    "model.del_component( 'Anti_Affinity_index_index_0')\n",
    "\n",
    "def Anti_Affinity_rule(model, s,c,t):\n",
    "    return sum(model.a[s,f,t,i,c] for f in model.F[s] for i in model.I_t[t]) <= 1\n",
    "\n",
    "model.Anti_Affinity = Constraint(model.S, model.Nc, model.T, rule= Anti_Affinity_rule)"
   ]
  },
  {
   "cell_type": "markdown",
   "metadata": {},
   "source": [
    "#### C: I-UPF and A-UPF\n",
    "\n",
    "The UPFs of type I-UPF  and PSA must not be co-located in the same servers\n",
    "\n",
    "$\\sum \\limits_{f \\in F_s} \\sum \\limits_{i \\in I_t} z_{1,i,n}^{s,f}+ \\sum \\limits_{f \\in F_s} \\sum \\limits_{i \\in I_t}  z_{2,i,n}^{s,f} \\leq 1  \\hspace{30 pt} \\forall s \\in S, \\forall n \\in N_c$"
   ]
  },
  {
   "cell_type": "code",
   "execution_count": 69,
   "metadata": {},
   "outputs": [],
   "source": [
    "model.del_component( 'IUPF_PSA')\n",
    "model.del_component( 'IUPF_PSA_index')\n",
    "\n",
    "def IUPF_PSA_rule(model, s,c):\n",
    "    return sum(model.a[s,f,1,m,c] for f in model.F[s] for m in model.I_t[1])+sum(model.a[s,f,2,m,c] for f in model.F[s] for m in model.I_t[2]) <= 1\n",
    "\n",
    "model.IUPF_PSA = Constraint(model.S, model.Nc, rule= IUPF_PSA_rule)"
   ]
  },
  {
   "attachments": {},
   "cell_type": "markdown",
   "metadata": {},
   "source": [
    "#### C18: Latency Requirement\n",
    "\n",
    "\n",
    "$2 \\cdot (\\sum \\limits_{f \\in F_s^+} \\sum \\limits_{t \\in T} \\sum \\limits_{n \\in N_c} d_t  \\cdot Q_{s}^{f,b}  \\cdot  T_{s}^{f,t}\n",
    "    +  \n",
    "    \\sum \\limits_{ f,g \\in F_s^+}  \\sum\\limits_{ p \\in P} d_{p} \\cdot O_{s}^{f,g,b}  \\cdot y_{p}^{f,g,s}) + d_{\\tiny DN} \\leq  L_s \\hspace{30 pt} \\forall b \\in B_s, \\forall s \\in S$\n"
   ]
  },
  {
   "cell_type": "code",
   "execution_count": 70,
   "metadata": {},
   "outputs": [],
   "source": [
    "model.del_component( 'Latency')\n",
    "model.del_component( 'Latency_index')\n",
    "\n",
    "def Latency_rule(model,s,b):\n",
    "    latency= 2*sum(model.z[s,f,n]*model.D_proc[t]*model.P_sbf[s,b,f]*model.T_sft[s,f,t] for t in model.T \n",
    "                   for n in model.Nc for f in model.F[s])+2*sum(model.D_prop[n,m,h]*model.y[s,f,g,n,m,h]*model.O_sbfg[s,b,f,g] \n",
    "                                                                 for n,m,h in model.Paths_cxc for f in model.F[s] \n",
    "                                                                 for g in model.F[s])+ 2*sum(model.D_prop[n,m,h]*model.ŷ[s,g,n,m,h]*model.Ô_sbg[s,b,g]\n",
    "                                                                                             for n,m,h in model.Paths_rxc \n",
    "                                                                                             for g in model.F[s])+T_dn+Dict_Tproc[Ran_type] \n",
    "    return latency <= model.Lreq_s[s]\n",
    "\n",
    "model.Latency = Constraint(model.SB, rule=Latency_rule)"
   ]
  },
  {
   "attachments": {},
   "cell_type": "markdown",
   "metadata": {},
   "source": [
    "#### SOLVING THE MODEL AND GETTING THE RESULTS"
   ]
  },
  {
   "cell_type": "code",
   "execution_count": 72,
   "metadata": {},
   "outputs": [
    {
     "name": "stdout",
     "output_type": "stream",
     "text": [
      "Solving the model. It make take a while depending on the topology size and number os users.\n",
      "   OK\n",
      "\n"
     ]
    }
   ],
   "source": [
    "# solve the model\n",
    "flag_success = False\n",
    "print('Solving the model. It make take a while depending on the topology size and number os users.')\n",
    "\n",
    "start_t_process = time.process_time()  #Process time for profiling: sum of kernel and user-space CPU\n",
    "\n",
    "solver = SolverFactory('gurobi')\n",
    "\n",
    "if params.FLAG_GAP:\n",
    "    solver.options['mipgap'] = params.GAP_DSFC    # optimility GAP\n",
    "\n",
    "results = solver.solve(model)\n",
    "\n",
    "T_exec= time.process_time()  - start_t_process \n",
    "\n",
    "\n",
    "\n",
    "if (results.solver.status == SolverStatus.ok) and (results.solver.termination_condition == \n",
    "                                                   TerminationCondition.optimal):\n",
    "    print('   OK\\n')\n",
    "    flag_success = True\n",
    "    Unassigned = 0\n",
    "elif (results.solver.termination_condition == TerminationCondition.infeasible):\n",
    "    print('   INFEASIBLE\\n')\n",
    "    Unassigned = S\n",
    "else:\n",
    "    # Something else is wrong\n",
    "    print (\"   Solver Status: \",  result.solver.status,'\\n')\n"
   ]
  },
  {
   "cell_type": "code",
   "execution_count": 73,
   "metadata": {},
   "outputs": [],
   "source": [
    "# model.pprint()"
   ]
  },
  {
   "cell_type": "code",
   "execution_count": 74,
   "metadata": {},
   "outputs": [],
   "source": [
    "# model.display()"
   ]
  },
  {
   "cell_type": "code",
   "execution_count": 75,
   "metadata": {},
   "outputs": [
    {
     "data": {
      "text/plain": [
       "0.15555208436724569"
      ]
     },
     "execution_count": 75,
     "metadata": {},
     "output_type": "execute_result"
    }
   ],
   "source": [
    "best_cost = model.Objective.expr()\n",
    "best_cost"
   ]
  },
  {
   "cell_type": "markdown",
   "metadata": {},
   "source": [
    "### Getting the results"
   ]
  },
  {
   "cell_type": "code",
   "execution_count": 76,
   "metadata": {},
   "outputs": [],
   "source": [
    "# Number of VNFs\n",
    "Total_upf = 0\n",
    "Num_upf_type = {}\n",
    "Xtic_ = [] \n",
    "\n",
    "for t in model.T:\n",
    "    t_upf = 0\n",
    "    for m in model.I_t[t]:\n",
    "        for c in model.Nc:\n",
    "            if model.x[t,m,c].value > 0.9:\n",
    "                Total_upf += 1\n",
    "                t_upf += 1\n",
    "                Xtic_.append((t,m,c))\n",
    "    Num_upf_type[t] = t_upf"
   ]
  },
  {
   "cell_type": "code",
   "execution_count": 77,
   "metadata": {},
   "outputs": [],
   "source": [
    "# Number of open servers\n",
    "Num_open_c = 0\n",
    "Open_servers_list = []\n",
    "\n",
    "for c in model.Nc:\n",
    "    if model.w[c].value > 0.9:\n",
    "        Open_servers_list.append(c)\n",
    "        Num_open_c += 1        "
   ]
  },
  {
   "cell_type": "code",
   "execution_count": 78,
   "metadata": {},
   "outputs": [],
   "source": [
    "#  nUMBER OF Relocated SESSIONS\n",
    "Num_reassig = 0 # this is to guarantee similarity to the Heuriscitc. Sessions that implied the reassign\n",
    "Num_reloc = 0\n",
    "Lisr_rs = []\n",
    "for s in model.S:\n",
    "    if model.r[s].value > 0.9:\n",
    "        Lisr_rs.append(s)\n",
    "        Num_reloc += 1"
   ]
  },
  {
   "cell_type": "code",
   "execution_count": 81,
   "metadata": {},
   "outputs": [
    {
     "data": {
      "text/plain": [
       "0"
      ]
     },
     "execution_count": 81,
     "metadata": {},
     "output_type": "execute_result"
    }
   ],
   "source": [
    "# Number of migrations\n",
    "Migration_lis = []\n",
    "for t, m in model.U:\n",
    "    for c in model.Nc:\n",
    "        for e in model.Nc:\n",
    "            if model.m[t,m,c,e].value > 0.9:\n",
    "                Migration_lis.append((t,m,c,e))\n",
    "                    \n",
    "Num_mig = len(Migration_lis)                    \n",
    "Num_mig"
   ]
  },
  {
   "cell_type": "code",
   "execution_count": 82,
   "metadata": {},
   "outputs": [],
   "source": [
    "# Number of new deployments\n",
    "newdeploy_list = []\n",
    "\n",
    "for t,i in model.TI:\n",
    "    if model.n[t,i].value > 0.9:\n",
    "        newdeploy_list.append((t,i))\n",
    "\n",
    "Num_newdeploy = len(newdeploy_list)"
   ]
  },
  {
   "cell_type": "code",
   "execution_count": 83,
   "metadata": {},
   "outputs": [],
   "source": [
    "Latency_List = []\n",
    "\n",
    "for s,b in model.SB:\n",
    "    latency= 2*sum(model.z[s,f,n].value*model.D_proc[t]*model.P_sbf[s,b,f]*model.T_sft[s,f,t] for t in model.T \n",
    "                   for n in model.Nc for f in model.F[s])+2*sum(model.D_prop[n,m,h]*model.y[s,f,g,n,m,h].value*model.O_sbfg[s,b,f,g] \n",
    "                                                                 for n,m,h in model.Paths_cxc for f in model.F[s] \n",
    "                                                                 for g in model.F[s])+ 2*sum(model.D_prop[n,m,h]*model.ŷ[s,g,n,m,h].value*model.Ô_sbg[s,b,g]  \n",
    "                                                                                             for n,m,h in model.Paths_rxc \n",
    "                                                                                             for g in model.F[s])+T_dn+Dict_Tproc[Ran_type]\n",
    "    Latency_List.append(latency)\n"
   ]
  },
  {
   "cell_type": "code",
   "execution_count": 84,
   "metadata": {},
   "outputs": [
    {
     "name": "stdout",
     "output_type": "stream",
     "text": [
      "   Number of PDU sessions: 50\n",
      "   Execution time 11.859375\n",
      "   Cost 0.15555208436724569\n",
      "   Number of UPF installed:  4\n",
      "   Number of UPFs per type {1: 2, 2: 1, 3: 1}\n",
      "   UPFs instances [(1, 1, 12), (1, 2, 11), (2, 1, 12), (3, 1, 12)]\n",
      "   Number of new deployments 0\n",
      "   New UPFs list []\n",
      "   Number of migrations 0\n",
      "   Migrated UPFs list []\n",
      "   Number of Open Servers 2\n",
      "   Open servers list [11, 12]\n",
      "   Number of relocated sessions 0\n",
      "   Reassigned sessions []\n",
      "   Maximum latency 972.8199999999999\n",
      "   Average latency 859.0645161290324\n"
     ]
    }
   ],
   "source": [
    "print('   Number of PDU sessions:', S)\n",
    "print('   Execution time', T_exec)\n",
    "print('   Cost', best_cost)\n",
    "print('   Number of UPF installed: ', Total_upf )\n",
    "print('   Number of UPFs per type', Num_upf_type )\n",
    "print('   UPFs instances', Xtic_)\n",
    "print('   Number of new deployments', Num_newdeploy )\n",
    "print('   New UPFs list', newdeploy_list)\n",
    "print('   Number of migrations', Num_mig )\n",
    "print('   Migrated UPFs list', Migration_lis)\n",
    "print('   Number of Open Servers', Num_open_c )\n",
    "print('   Open servers list', Open_servers_list )\n",
    "print('   Number of relocated sessions', Num_reloc )\n",
    "print('   Reassigned sessions', Lisr_rs )\n",
    "print('   Maximum latency', max(Latency_List) )\n",
    "print('   Average latency', sum(Latency_List)/sum(List_B_s) )"
   ]
  }
 ],
 "metadata": {
  "kernelspec": {
   "display_name": "Python 3",
   "language": "python",
   "name": "python3"
  },
  "language_info": {
   "codemirror_mode": {
    "name": "ipython",
    "version": 3
   },
   "file_extension": ".py",
   "mimetype": "text/x-python",
   "name": "python",
   "nbconvert_exporter": "python",
   "pygments_lexer": "ipython3",
   "version": "3.7.9"
  }
 },
 "nbformat": 4,
 "nbformat_minor": 2
}
